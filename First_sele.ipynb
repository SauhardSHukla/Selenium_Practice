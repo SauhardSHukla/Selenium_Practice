{
 "cells": [
  {
   "cell_type": "code",
   "execution_count": 82,
   "metadata": {},
   "outputs": [],
   "source": [
    "import selenium\n",
    "from selenium import webdriver\n",
    "import pandas as pd\n",
    "import time"
   ]
  },
  {
   "cell_type": "markdown",
   "metadata": {},
   "source": [
    "https://the-internet.herokuapp.com/tables"
   ]
  },
  {
   "cell_type": "code",
   "execution_count": 83,
   "metadata": {},
   "outputs": [],
   "source": [
    "\n",
    "from selenium import webdriver\n",
    "from selenium.webdriver.chrome.service import Service\n",
    "\n",
    "# Path to your ChromeDriver executable\n",
    "driver_path = r\"C:\\Windows\\chromedriver.exe\"\n",
    "\n",
    "# Create a Service object\n",
    "service = Service(driver_path)\n",
    "\n",
    "# Initialize the WebDriver with the Service object\n",
    "driver = webdriver.Chrome(service=service)\n",
    "\n",
    "# Test by opening a website\n",
    "driver.get(\"https://the-internet.herokuapp.com/tables\")"
   ]
  },
  {
   "cell_type": "code",
   "execution_count": 84,
   "metadata": {},
   "outputs": [
    {
     "name": "stdout",
     "output_type": "stream",
     "text": [
      "['Last Name', 'First Name', 'Email', 'Due', 'Web Site', 'Action']\n"
     ]
    }
   ],
   "source": [
    "table_no1= driver.find_element('id','table1')\n",
    "coloumns_name = [i.text for i in table_no1.find_elements('tag name','th')]\n",
    "print(coloumns_name)\n"
   ]
  },
  {
   "cell_type": "code",
   "execution_count": 85,
   "metadata": {},
   "outputs": [
    {
     "name": "stdout",
     "output_type": "stream",
     "text": [
      "<selenium.webdriver.remote.webelement.WebElement (session=\"b0ed477e72d879beb9ab06e5f9a9839a\", element=\"f.A0DAA34A19EC9BD2C8F60E26C80D8C5C.d.AB2E6C18D2AF972F60ABE3E81D84CFFB.e.5\")>\n"
     ]
    }
   ],
   "source": [
    "due_ele =None\n",
    "for i in table_no1.find_elements('tag name','th'):\n",
    "  if i.text =='Due':\n",
    "    due_ele=i\n",
    "print(due_ele)"
   ]
  },
  {
   "cell_type": "code",
   "execution_count": 90,
   "metadata": {},
   "outputs": [],
   "source": [
    "due_ele.click()\n",
    "time.sleep(5)\n",
    "due_ele.click()"
   ]
  },
  {
   "cell_type": "code",
   "execution_count": 91,
   "metadata": {},
   "outputs": [
    {
     "name": "stdout",
     "output_type": "stream",
     "text": [
      "[<selenium.webdriver.remote.webelement.WebElement (session=\"b0ed477e72d879beb9ab06e5f9a9839a\", element=\"f.A0DAA34A19EC9BD2C8F60E26C80D8C5C.d.AB2E6C18D2AF972F60ABE3E81D84CFFB.e.13\")>, <selenium.webdriver.remote.webelement.WebElement (session=\"b0ed477e72d879beb9ab06e5f9a9839a\", element=\"f.A0DAA34A19EC9BD2C8F60E26C80D8C5C.d.AB2E6C18D2AF972F60ABE3E81D84CFFB.e.12\")>, <selenium.webdriver.remote.webelement.WebElement (session=\"b0ed477e72d879beb9ab06e5f9a9839a\", element=\"f.A0DAA34A19EC9BD2C8F60E26C80D8C5C.d.AB2E6C18D2AF972F60ABE3E81D84CFFB.e.10\")>, <selenium.webdriver.remote.webelement.WebElement (session=\"b0ed477e72d879beb9ab06e5f9a9839a\", element=\"f.A0DAA34A19EC9BD2C8F60E26C80D8C5C.d.AB2E6C18D2AF972F60ABE3E81D84CFFB.e.11\")>]\n"
     ]
    }
   ],
   "source": [
    "data_name=(table_no1.find_element('tag name','tbody').find_elements('tag name','tr'))\n",
    "print(data_name)"
   ]
  },
  {
   "cell_type": "code",
   "execution_count": 92,
   "metadata": {},
   "outputs": [
    {
     "name": "stdout",
     "output_type": "stream",
     "text": [
      "[['Doe', 'Jason', 'jdoe@hotmail.com', '$100.00', 'http://www.jdoe.com', 'edit delete'], ['Bach', 'Frank', 'fbach@yahoo.com', '$51.00', 'http://www.frank.com', 'edit delete'], ['Smith', 'John', 'jsmith@gmail.com', '$50.00', 'http://www.jsmith.com', 'edit delete'], ['Conway', 'Tim', 'tconway@earthlink.net', '$50.00', 'http://www.timconway.com', 'edit delete']]\n"
     ]
    }
   ],
   "source": [
    "per_row=[]\n",
    "for dta in data_name:\n",
    "  # print(dta)\n",
    "  per_row.append(\n",
    "    [i.text for i in dta.find_elements('tag name','td')]\n",
    "  )\n",
    "print(per_row)\n"
   ]
  },
  {
   "cell_type": "code",
   "execution_count": null,
   "metadata": {},
   "outputs": [
    {
     "data": {
      "text/html": [
       "<div>\n",
       "<style scoped>\n",
       "    .dataframe tbody tr th:only-of-type {\n",
       "        vertical-align: middle;\n",
       "    }\n",
       "\n",
       "    .dataframe tbody tr th {\n",
       "        vertical-align: top;\n",
       "    }\n",
       "\n",
       "    .dataframe thead th {\n",
       "        text-align: right;\n",
       "    }\n",
       "</style>\n",
       "<table border=\"1\" class=\"dataframe\">\n",
       "  <thead>\n",
       "    <tr style=\"text-align: right;\">\n",
       "      <th></th>\n",
       "      <th>Last Name</th>\n",
       "      <th>First Name</th>\n",
       "      <th>Email</th>\n",
       "      <th>Due</th>\n",
       "      <th>Web Site</th>\n",
       "      <th>Action</th>\n",
       "    </tr>\n",
       "  </thead>\n",
       "  <tbody>\n",
       "    <tr>\n",
       "      <th>0</th>\n",
       "      <td>Doe</td>\n",
       "      <td>Jason</td>\n",
       "      <td>jdoe@hotmail.com</td>\n",
       "      <td>$100.00</td>\n",
       "      <td>http://www.jdoe.com</td>\n",
       "      <td>edit delete</td>\n",
       "    </tr>\n",
       "    <tr>\n",
       "      <th>1</th>\n",
       "      <td>Bach</td>\n",
       "      <td>Frank</td>\n",
       "      <td>fbach@yahoo.com</td>\n",
       "      <td>$51.00</td>\n",
       "      <td>http://www.frank.com</td>\n",
       "      <td>edit delete</td>\n",
       "    </tr>\n",
       "    <tr>\n",
       "      <th>2</th>\n",
       "      <td>Smith</td>\n",
       "      <td>John</td>\n",
       "      <td>jsmith@gmail.com</td>\n",
       "      <td>$50.00</td>\n",
       "      <td>http://www.jsmith.com</td>\n",
       "      <td>edit delete</td>\n",
       "    </tr>\n",
       "    <tr>\n",
       "      <th>3</th>\n",
       "      <td>Conway</td>\n",
       "      <td>Tim</td>\n",
       "      <td>tconway@earthlink.net</td>\n",
       "      <td>$50.00</td>\n",
       "      <td>http://www.timconway.com</td>\n",
       "      <td>edit delete</td>\n",
       "    </tr>\n",
       "  </tbody>\n",
       "</table>\n",
       "</div>"
      ],
      "text/plain": [
       "  Last Name First Name                  Email      Due  \\\n",
       "0       Doe      Jason       jdoe@hotmail.com  $100.00   \n",
       "1      Bach      Frank        fbach@yahoo.com   $51.00   \n",
       "2     Smith       John       jsmith@gmail.com   $50.00   \n",
       "3    Conway        Tim  tconway@earthlink.net   $50.00   \n",
       "\n",
       "                   Web Site       Action  \n",
       "0       http://www.jdoe.com  edit delete  \n",
       "1      http://www.frank.com  edit delete  \n",
       "2     http://www.jsmith.com  edit delete  \n",
       "3  http://www.timconway.com  edit delete  "
      ]
     },
     "execution_count": 93,
     "metadata": {},
     "output_type": "execute_result"
    }
   ],
   "source": [
    "df=pd.DataFrame(per_row,columns=coloumns_name)\n",
    "df\n",
    "driver.quit()"
   ]
  }
 ],
 "metadata": {
  "kernelspec": {
   "display_name": "Python 3",
   "language": "python",
   "name": "python3"
  },
  "language_info": {
   "codemirror_mode": {
    "name": "ipython",
    "version": 3
   },
   "file_extension": ".py",
   "mimetype": "text/x-python",
   "name": "python",
   "nbconvert_exporter": "python",
   "pygments_lexer": "ipython3",
   "version": "3.12.3"
  }
 },
 "nbformat": 4,
 "nbformat_minor": 2
}
