{
 "cells": [
  {
   "cell_type": "code",
   "execution_count": 1,
   "metadata": {},
   "outputs": [],
   "source": [
    "from selenium.webdriver.support.select import Select\n",
    "from selenium import webdriver\n",
    "import time\n",
    "from selenium.webdriver.chrome.service import Service\n"
   ]
  },
  {
   "cell_type": "markdown",
   "metadata": {},
   "source": [
    "https://artoftesting.com/samplesiteforselenium"
   ]
  },
  {
   "cell_type": "code",
   "execution_count": 2,
   "metadata": {},
   "outputs": [],
   "source": [
    "# Path to your ChromeDriver executable\n",
    "driver_path = r\"C:\\Windows\\chromedriver.exe\"\n",
    "\n",
    "# Create a Service object\n",
    "service = Service(driver_path)\n",
    "\n",
    "# Initialize the WebDriver with the Service object\n",
    "driver = webdriver.Chrome(service=service)\n",
    "\n",
    "# Test by opening a website\n",
    "driver.get(\"https://artoftesting.com/samplesiteforselenium\")"
   ]
  },
  {
   "cell_type": "code",
   "execution_count": null,
   "metadata": {},
   "outputs": [],
   "source": [
    "male_vales = None\n",
    "female_values = None\n",
    "for i in driver.find_elements('tag name','input'):\n",
    "  if i.get_attribute('type')=='radio':\n",
    "    if i.get_attribute('value')=='male':\n",
    "      male_vales=i\n",
    "    else:\n",
    "      female_values=i"
   ]
  },
  {
   "cell_type": "code",
   "execution_count": null,
   "metadata": {},
   "outputs": [],
   "source": [
    "female_values.click() #First it will be clicked then we will click on the female\n",
    "male_vales.click() #Second it will be clicked "
   ]
  },
  {
   "cell_type": "code",
   "execution_count": 36,
   "metadata": {},
   "outputs": [
    {
     "data": {
      "text/plain": [
       "(False, True)"
      ]
     },
     "execution_count": 36,
     "metadata": {},
     "output_type": "execute_result"
    }
   ],
   "source": [
    "female_values.is_selected(),male_vales.is_selected()"
   ]
  },
  {
   "cell_type": "code",
   "execution_count": null,
   "metadata": {},
   "outputs": [],
   "source": [
    "automation = None\n",
    "Manuel =None\n",
    "for i in driver.find_elements('tag name','input'):\n",
    "  if i.get_attribute('type')=='checkbox':\n",
    "    if i.get_attribute('value')=='Automation':\n",
    "      automation=i\n",
    "      automation.click()\n",
    "    if i.get_attribute('value')=='Performance':\n",
    "      Manuel=i\n",
    "      Manuel.click()\n"
   ]
  },
  {
   "cell_type": "code",
   "execution_count": 68,
   "metadata": {},
   "outputs": [
    {
     "name": "stdout",
     "output_type": "stream",
     "text": [
      "Automation Testing Automation\n",
      "Performance Testing Performance\n",
      "Manual Testing Manual\n",
      "Database Testing Database\n"
     ]
    }
   ],
   "source": [
    "data=Select(driver.find_element('tag name','select'))#.click()\n",
    "for i in data.options:\n",
    "  # print(i.text,i.get_attribute('value'))\n",
    "  # if i.get_attribute('value')=='Automation':\n",
    "    print(i.text, i.get_attribute('value'))\n",
    "\n"
   ]
  },
  {
   "cell_type": "code",
   "execution_count": 71,
   "metadata": {},
   "outputs": [],
   "source": [
    "data.select_by_value('Manual')"
   ]
  },
  {
   "cell_type": "code",
   "execution_count": 73,
   "metadata": {},
   "outputs": [],
   "source": [
    "data.select_by_visible_text('Database Testing')\n"
   ]
  },
  {
   "cell_type": "code",
   "execution_count": 74,
   "metadata": {},
   "outputs": [],
   "source": [
    "data.select_by_index(2)"
   ]
  },
  {
   "cell_type": "code",
   "execution_count": 75,
   "metadata": {},
   "outputs": [],
   "source": [
    "data.select_by_value('Manual')"
   ]
  }
 ],
 "metadata": {
  "kernelspec": {
   "display_name": "Python 3",
   "language": "python",
   "name": "python3"
  },
  "language_info": {
   "codemirror_mode": {
    "name": "ipython",
    "version": 3
   },
   "file_extension": ".py",
   "mimetype": "text/x-python",
   "name": "python",
   "nbconvert_exporter": "python",
   "pygments_lexer": "ipython3",
   "version": "3.12.3"
  }
 },
 "nbformat": 4,
 "nbformat_minor": 2
}
