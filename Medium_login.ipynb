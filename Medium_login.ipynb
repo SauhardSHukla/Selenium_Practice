{
 "cells": [
  {
   "cell_type": "markdown",
   "metadata": {},
   "source": [
    "Here we will log-in inside the site name Medium.com where we will save all the cookies related to it can be save as the of the Cookies_Med.json"
   ]
  },
  {
   "cell_type": "code",
   "execution_count": 150,
   "metadata": {},
   "outputs": [],
   "source": [
    "from selenium import webdriver\n",
    "# from selenium.webdriver.common.service import Service\n",
    "from selenium.webdriver.common.keys import Keys\n",
    "from selenium.webdriver.common.by import By\n",
    "from bs4 import BeautifulSoup\n",
    "import json\n",
    "import time\n",
    "\n",
    "driver = webdriver.Chrome()\n",
    "\n",
    "driver.get('https://www.medium.com/')"
   ]
  },
  {
   "cell_type": "code",
   "execution_count": 152,
   "metadata": {},
   "outputs": [],
   "source": [
    "driver.find_element(By.XPATH,'/html/body/div[1]/div/div[3]/div[1]/div[1]/div/div/div/div[3]/div[5]/span/a/button').click()\n",
    "time.sleep(2)"
   ]
  },
  {
   "cell_type": "code",
   "execution_count": 153,
   "metadata": {},
   "outputs": [],
   "source": [
    "driver.find_element(By.XPATH,'/html/body/div[3]/div/div/div/div[1]/div/div[2]/a/div').click()\n",
    "time.sleep(2)"
   ]
  },
  {
   "cell_type": "code",
   "execution_count": 154,
   "metadata": {},
   "outputs": [],
   "source": [
    "driver.find_element(By.TAG_NAME,'input').send_keys('sauhardshukla03@gmail.com')\n",
    "time.sleep(3)\n",
    "driver.find_element(By.XPATH,'/html/body/div[1]/div[1]/div[2]/c-wiz/div/div[3]/div/div[1]/div/div/button/span').click()"
   ]
  },
  {
   "cell_type": "code",
   "execution_count": null,
   "metadata": {},
   "outputs": [],
   "source": [
    "driver.find_element(By.XPATH,'/html/body/div[3]/div/div/div/div[1]/div[1]/div[2]/div[1]/button').click()"
   ]
  },
  {
   "cell_type": "code",
   "execution_count": null,
   "metadata": {},
   "outputs": [
    {
     "ename": "InvalidCookieDomainException",
     "evalue": "Message: invalid cookie domain: Cookie 'domain' mismatch\n  (Session info: chrome=131.0.6778.205)\nStacktrace:\n\tGetHandleVerifier [0x00007FF7E32B6CB5+28821]\n\t(No symbol) [0x00007FF7E3223840]\n\t(No symbol) [0x00007FF7E30C578A]\n\t(No symbol) [0x00007FF7E317411B]\n\t(No symbol) [0x00007FF7E313F2FA]\n\t(No symbol) [0x00007FF7E315F412]\n\t(No symbol) [0x00007FF7E313F0A3]\n\t(No symbol) [0x00007FF7E310A778]\n\t(No symbol) [0x00007FF7E310B8E1]\n\tGetHandleVerifier [0x00007FF7E35EFCAD+3408013]\n\tGetHandleVerifier [0x00007FF7E360741F+3504127]\n\tGetHandleVerifier [0x00007FF7E35FB5FD+3455453]\n\tGetHandleVerifier [0x00007FF7E337BDBB+835995]\n\t(No symbol) [0x00007FF7E322EB5F]\n\t(No symbol) [0x00007FF7E322A814]\n\t(No symbol) [0x00007FF7E322A9AD]\n\t(No symbol) [0x00007FF7E321A199]\n\tBaseThreadInitThunk [0x00007FFFFD7E259D+29]\n\tRtlUserThreadStart [0x00007FFFFF94AF38+40]\n",
     "output_type": "error",
     "traceback": [
      "\u001b[1;31m---------------------------------------------------------------------------\u001b[0m",
      "\u001b[1;31mInvalidCookieDomainException\u001b[0m              Traceback (most recent call last)",
      "Cell \u001b[1;32mIn[59], line 5\u001b[0m\n\u001b[0;32m      2\u001b[0m   all_cookies \u001b[38;5;241m=\u001b[39m json\u001b[38;5;241m.\u001b[39mload(file)\n\u001b[0;32m      4\u001b[0m \u001b[38;5;28;01mfor\u001b[39;00m cookie \u001b[38;5;129;01min\u001b[39;00m all_cookies:\n\u001b[1;32m----> 5\u001b[0m   \u001b[43mdriver\u001b[49m\u001b[38;5;241;43m.\u001b[39;49m\u001b[43madd_cookie\u001b[49m\u001b[43m(\u001b[49m\u001b[43mcookie\u001b[49m\u001b[43m)\u001b[49m\n",
      "File \u001b[1;32m~\\AppData\\Roaming\\Python\\Python312\\site-packages\\selenium\\webdriver\\remote\\webdriver.py:667\u001b[0m, in \u001b[0;36mWebDriver.add_cookie\u001b[1;34m(self, cookie_dict)\u001b[0m\n\u001b[0;32m    665\u001b[0m \u001b[38;5;28;01mif\u001b[39;00m \u001b[38;5;124m\"\u001b[39m\u001b[38;5;124msameSite\u001b[39m\u001b[38;5;124m\"\u001b[39m \u001b[38;5;129;01min\u001b[39;00m cookie_dict:\n\u001b[0;32m    666\u001b[0m     \u001b[38;5;28;01massert\u001b[39;00m cookie_dict[\u001b[38;5;124m\"\u001b[39m\u001b[38;5;124msameSite\u001b[39m\u001b[38;5;124m\"\u001b[39m] \u001b[38;5;129;01min\u001b[39;00m [\u001b[38;5;124m\"\u001b[39m\u001b[38;5;124mStrict\u001b[39m\u001b[38;5;124m\"\u001b[39m, \u001b[38;5;124m\"\u001b[39m\u001b[38;5;124mLax\u001b[39m\u001b[38;5;124m\"\u001b[39m, \u001b[38;5;124m\"\u001b[39m\u001b[38;5;124mNone\u001b[39m\u001b[38;5;124m\"\u001b[39m]\n\u001b[1;32m--> 667\u001b[0m     \u001b[38;5;28;43mself\u001b[39;49m\u001b[38;5;241;43m.\u001b[39;49m\u001b[43mexecute\u001b[49m\u001b[43m(\u001b[49m\u001b[43mCommand\u001b[49m\u001b[38;5;241;43m.\u001b[39;49m\u001b[43mADD_COOKIE\u001b[49m\u001b[43m,\u001b[49m\u001b[43m \u001b[49m\u001b[43m{\u001b[49m\u001b[38;5;124;43m\"\u001b[39;49m\u001b[38;5;124;43mcookie\u001b[39;49m\u001b[38;5;124;43m\"\u001b[39;49m\u001b[43m:\u001b[49m\u001b[43m \u001b[49m\u001b[43mcookie_dict\u001b[49m\u001b[43m}\u001b[49m\u001b[43m)\u001b[49m\n\u001b[0;32m    668\u001b[0m \u001b[38;5;28;01melse\u001b[39;00m:\n\u001b[0;32m    669\u001b[0m     \u001b[38;5;28mself\u001b[39m\u001b[38;5;241m.\u001b[39mexecute(Command\u001b[38;5;241m.\u001b[39mADD_COOKIE, {\u001b[38;5;124m\"\u001b[39m\u001b[38;5;124mcookie\u001b[39m\u001b[38;5;124m\"\u001b[39m: cookie_dict})\n",
      "File \u001b[1;32m~\\AppData\\Roaming\\Python\\Python312\\site-packages\\selenium\\webdriver\\remote\\webdriver.py:380\u001b[0m, in \u001b[0;36mWebDriver.execute\u001b[1;34m(self, driver_command, params)\u001b[0m\n\u001b[0;32m    378\u001b[0m response \u001b[38;5;241m=\u001b[39m \u001b[38;5;28mself\u001b[39m\u001b[38;5;241m.\u001b[39mcommand_executor\u001b[38;5;241m.\u001b[39mexecute(driver_command, params)\n\u001b[0;32m    379\u001b[0m \u001b[38;5;28;01mif\u001b[39;00m response:\n\u001b[1;32m--> 380\u001b[0m     \u001b[38;5;28;43mself\u001b[39;49m\u001b[38;5;241;43m.\u001b[39;49m\u001b[43merror_handler\u001b[49m\u001b[38;5;241;43m.\u001b[39;49m\u001b[43mcheck_response\u001b[49m\u001b[43m(\u001b[49m\u001b[43mresponse\u001b[49m\u001b[43m)\u001b[49m\n\u001b[0;32m    381\u001b[0m     response[\u001b[38;5;124m\"\u001b[39m\u001b[38;5;124mvalue\u001b[39m\u001b[38;5;124m\"\u001b[39m] \u001b[38;5;241m=\u001b[39m \u001b[38;5;28mself\u001b[39m\u001b[38;5;241m.\u001b[39m_unwrap_value(response\u001b[38;5;241m.\u001b[39mget(\u001b[38;5;124m\"\u001b[39m\u001b[38;5;124mvalue\u001b[39m\u001b[38;5;124m\"\u001b[39m, \u001b[38;5;28;01mNone\u001b[39;00m))\n\u001b[0;32m    382\u001b[0m     \u001b[38;5;28;01mreturn\u001b[39;00m response\n",
      "File \u001b[1;32m~\\AppData\\Roaming\\Python\\Python312\\site-packages\\selenium\\webdriver\\remote\\errorhandler.py:229\u001b[0m, in \u001b[0;36mErrorHandler.check_response\u001b[1;34m(self, response)\u001b[0m\n\u001b[0;32m    227\u001b[0m         alert_text \u001b[38;5;241m=\u001b[39m value[\u001b[38;5;124m\"\u001b[39m\u001b[38;5;124malert\u001b[39m\u001b[38;5;124m\"\u001b[39m]\u001b[38;5;241m.\u001b[39mget(\u001b[38;5;124m\"\u001b[39m\u001b[38;5;124mtext\u001b[39m\u001b[38;5;124m\"\u001b[39m)\n\u001b[0;32m    228\u001b[0m     \u001b[38;5;28;01mraise\u001b[39;00m exception_class(message, screen, stacktrace, alert_text)  \u001b[38;5;66;03m# type: ignore[call-arg]  # mypy is not smart enough here\u001b[39;00m\n\u001b[1;32m--> 229\u001b[0m \u001b[38;5;28;01mraise\u001b[39;00m exception_class(message, screen, stacktrace)\n",
      "\u001b[1;31mInvalidCookieDomainException\u001b[0m: Message: invalid cookie domain: Cookie 'domain' mismatch\n  (Session info: chrome=131.0.6778.205)\nStacktrace:\n\tGetHandleVerifier [0x00007FF7E32B6CB5+28821]\n\t(No symbol) [0x00007FF7E3223840]\n\t(No symbol) [0x00007FF7E30C578A]\n\t(No symbol) [0x00007FF7E317411B]\n\t(No symbol) [0x00007FF7E313F2FA]\n\t(No symbol) [0x00007FF7E315F412]\n\t(No symbol) [0x00007FF7E313F0A3]\n\t(No symbol) [0x00007FF7E310A778]\n\t(No symbol) [0x00007FF7E310B8E1]\n\tGetHandleVerifier [0x00007FF7E35EFCAD+3408013]\n\tGetHandleVerifier [0x00007FF7E360741F+3504127]\n\tGetHandleVerifier [0x00007FF7E35FB5FD+3455453]\n\tGetHandleVerifier [0x00007FF7E337BDBB+835995]\n\t(No symbol) [0x00007FF7E322EB5F]\n\t(No symbol) [0x00007FF7E322A814]\n\t(No symbol) [0x00007FF7E322A9AD]\n\t(No symbol) [0x00007FF7E321A199]\n\tBaseThreadInitThunk [0x00007FFFFD7E259D+29]\n\tRtlUserThreadStart [0x00007FFFFF94AF38+40]\n"
     ]
    }
   ],
   "source": [
    "with open('Cookies_X.json','r') as file:\n",
    "  all_cookies = json.load(file)\n",
    "\n",
    "for cookie in all_cookies:\n",
    "  driver.add_cookie(cookie)"
   ]
  }
 ],
 "metadata": {
  "kernelspec": {
   "display_name": "Python 3",
   "language": "python",
   "name": "python3"
  },
  "language_info": {
   "codemirror_mode": {
    "name": "ipython",
    "version": 3
   },
   "file_extension": ".py",
   "mimetype": "text/x-python",
   "name": "python",
   "nbconvert_exporter": "python",
   "pygments_lexer": "ipython3",
   "version": "3.12.3"
  }
 },
 "nbformat": 4,
 "nbformat_minor": 2
}
