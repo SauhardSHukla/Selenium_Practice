{
 "cells": [
  {
   "cell_type": "markdown",
   "metadata": {},
   "source": [
    "To handle the Infinity Scroll of the Windows \n",
    "\n",
    "URL:'https://the-internet.herokuapp.com/tables'\n",
    "\n",
    "In the link of Infinity Scroll"
   ]
  },
  {
   "cell_type": "code",
   "execution_count": 34,
   "metadata": {},
   "outputs": [],
   "source": [
    "from selenium import webdriver\n",
    "from selenium.webdriver.chrome.service import Service\n",
    "import time\n",
    "\n",
    "# Path to your ChromeDriver executable\n",
    "driver_path = r\"C:\\Windows\\chromedriver.exe\"\n",
    "\n",
    "# Create a Service object\n",
    "service = Service(driver_path)\n",
    "\n",
    "# Initialize the WebDriver with the Service object\n",
    "driver = webdriver.Chrome(service=service)\n",
    "\n",
    "# Test by opening a website\n",
    "driver.get(\"https://the-internet.herokuapp.com\")"
   ]
  },
  {
   "cell_type": "code",
   "execution_count": 35,
   "metadata": {},
   "outputs": [],
   "source": [
    "driver.find_element('link text','Infinite Scroll').click()"
   ]
  },
  {
   "cell_type": "code",
   "execution_count": 36,
   "metadata": {},
   "outputs": [],
   "source": [
    "# driver.execute_script(\"alert('simple text')\")"
   ]
  },
  {
   "cell_type": "code",
   "execution_count": null,
   "metadata": {},
   "outputs": [
    {
     "name": "stdout",
     "output_type": "stream",
     "text": [
      "161\n"
     ]
    }
   ],
   "source": [
    "Current_height  = driver.execute_script('return document.body.scrollHeight')\n",
    "print(Current_height)\n",
    "for _ in range(5):\n",
    "  (\n",
    "  driver.execute_script(f\"window.scrollTo(0, {Current_height});\")\n",
    "  )\n",
    "  time.sleep(3)\n",
    "  new_height=driver.execute_script('return document.body.scrollHeight')\n",
    "  if Current_height!= new_height:\n",
    "    Current_height=new_height\n",
    "  else:\n",
    "    break\n",
    "driver.quit()"
   ]
  }
 ],
 "metadata": {
  "kernelspec": {
   "display_name": "Python 3",
   "language": "python",
   "name": "python3"
  },
  "language_info": {
   "codemirror_mode": {
    "name": "ipython",
    "version": 3
   },
   "file_extension": ".py",
   "mimetype": "text/x-python",
   "name": "python",
   "nbconvert_exporter": "python",
   "pygments_lexer": "ipython3",
   "version": "3.12.3"
  }
 },
 "nbformat": 4,
 "nbformat_minor": 2
}
