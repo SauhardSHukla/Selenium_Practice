{
 "cells": [
  {
   "cell_type": "markdown",
   "metadata": {},
   "source": [
    "#### To creata a selenium work with out the site poping on the screen\n",
    "\n",
    "It reduces the consumptions of the CPU and RAM resources that helps in the automation to be faster and better efficient way to make them perform well in the automations "
   ]
  },
  {
   "cell_type": "code",
   "execution_count": 1,
   "metadata": {},
   "outputs": [],
   "source": [
    "from selenium import webdriver\n",
    "# from selenium.webdriver.chrome.service import Service\n",
    "from selenium.webdriver.chrome.options import Options\n",
    "\n",
    "# Path to your ChromeDriver executable\n",
    "# driver_path = r\"C:\\Windows\\chromedriver.exe\"\n",
    "\n",
    "# Create a Service object\n",
    "# service = Service(driver_path)\n",
    "\n",
    "#To get a variable to store the options()\n",
    "choose_options = Options()\n",
    "choose_options.add_argument(\"--headless\")  # Run in headless mode\n",
    "choose_options.add_argument(\"--disable-gpu\")  # Disable GPU acceleration (optional)\n",
    "\n",
    "# Initialize the WebDriver with the Service object\n",
    "driver = webdriver.Chrome(options=choose_options)\n",
    "\n",
    "# Test by opening a website\n",
    "driver.get(\"https://substack.com\") #The site to get the HTML \n"
   ]
  },
  {
   "cell_type": "code",
   "execution_count": 2,
   "metadata": {},
   "outputs": [],
   "source": [
    "html_data=driver.page_source # To get the complete picture of the <html> struture \n",
    "# print(html_data)\n",
    "driver.close() # Insure the proper cleaning of the automation tasks"
   ]
  }
 ],
 "metadata": {
  "kernelspec": {
   "display_name": "Python 3",
   "language": "python",
   "name": "python3"
  },
  "language_info": {
   "codemirror_mode": {
    "name": "ipython",
    "version": 3
   },
   "file_extension": ".py",
   "mimetype": "text/x-python",
   "name": "python",
   "nbconvert_exporter": "python",
   "pygments_lexer": "ipython3",
   "version": "3.12.3"
  }
 },
 "nbformat": 4,
 "nbformat_minor": 2
}
