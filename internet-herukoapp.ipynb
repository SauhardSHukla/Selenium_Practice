{
 "cells": [
  {
   "cell_type": "markdown",
   "metadata": {},
   "source": [
    "Code to Extract the data from the table of the Example 1 from the site theinternet-herokuapp in which we go to the table Link and extract all the importent part from it "
   ]
  },
  {
   "cell_type": "code",
   "execution_count": 9,
   "metadata": {},
   "outputs": [],
   "source": [
    "import selenium \n",
    "import pandas as pd\n",
    "import time\n",
    "from selenium import webdriver "
   ]
  },
  {
   "cell_type": "markdown",
   "metadata": {},
   "source": [
    "'https://the-internet.herokuapp.com/tables'"
   ]
  },
  {
   "cell_type": "code",
   "execution_count": 10,
   "metadata": {},
   "outputs": [],
   "source": [
    "driver = webdriver.Chrome()\n",
    "driver.get('https://the-internet.herokuapp.com/tables')"
   ]
  },
  {
   "cell_type": "code",
   "execution_count": 85,
   "metadata": {},
   "outputs": [],
   "source": [
    "table_element= driver.find_element('id','table1')"
   ]
  },
  {
   "cell_type": "code",
   "execution_count": 86,
   "metadata": {},
   "outputs": [],
   "source": [
    "due_ele =None\n",
    "for i in table_element.find_elements('tag name','th'):\n",
    "  if i.text == 'Due':\n",
    "    due_ele = i"
   ]
  },
  {
   "cell_type": "code",
   "execution_count": 95,
   "metadata": {},
   "outputs": [],
   "source": [
    "due_ele.click()\n",
    "time.sleep(5)\n",
    "# due_ele.click()"
   ]
  },
  {
   "cell_type": "code",
   "execution_count": 96,
   "metadata": {},
   "outputs": [],
   "source": [
    "column__data=  driver.find_element('id','table1')\n",
    "column_name = [i.text for i in column__data.find_elements('tag name','th')]\n",
    "\n",
    "data_format = table_element.find_element('tag name','tbody').find_elements('tag name','tr')"
   ]
  },
  {
   "cell_type": "code",
   "execution_count": 97,
   "metadata": {},
   "outputs": [
    {
     "data": {
      "text/plain": [
       "[['Doe',\n",
       "  'Jason',\n",
       "  'jdoe@hotmail.com',\n",
       "  '$100.00',\n",
       "  'http://www.jdoe.com',\n",
       "  'edit delete'],\n",
       " ['Bach',\n",
       "  'Frank',\n",
       "  'fbach@yahoo.com',\n",
       "  '$51.00',\n",
       "  'http://www.frank.com',\n",
       "  'edit delete'],\n",
       " ['Smith',\n",
       "  'John',\n",
       "  'jsmith@gmail.com',\n",
       "  '$50.00',\n",
       "  'http://www.jsmith.com',\n",
       "  'edit delete'],\n",
       " ['Conway',\n",
       "  'Tim',\n",
       "  'tconway@earthlink.net',\n",
       "  '$50.00',\n",
       "  'http://www.timconway.com',\n",
       "  'edit delete']]"
      ]
     },
     "execution_count": 97,
     "metadata": {},
     "output_type": "execute_result"
    }
   ],
   "source": [
    "new_data_set =[]\n",
    "for row in data_format:\n",
    "  new_data_set.append([ i.text for i in row.find_elements('tag name','td')])\n",
    "  \n",
    "new_data_set"
   ]
  },
  {
   "cell_type": "code",
   "execution_count": 112,
   "metadata": {},
   "outputs": [],
   "source": [
    "dataform=pd.DataFrame(new_data_set,columns=column_name)\n",
    "\n",
    "# pd.DataFrame(new_data_set,columns=column_name,index=['','','',\"\"])"
   ]
  },
  {
   "cell_type": "code",
   "execution_count": 113,
   "metadata": {},
   "outputs": [],
   "source": [
    "dataform.to_csv('dataframe.csv',index=False)"
   ]
  }
 ],
 "metadata": {
  "kernelspec": {
   "display_name": "Python 3",
   "language": "python",
   "name": "python3"
  },
  "language_info": {
   "codemirror_mode": {
    "name": "ipython",
    "version": 3
   },
   "file_extension": ".py",
   "mimetype": "text/x-python",
   "name": "python",
   "nbconvert_exporter": "python",
   "pygments_lexer": "ipython3",
   "version": "3.12.3"
  }
 },
 "nbformat": 4,
 "nbformat_minor": 2
}
