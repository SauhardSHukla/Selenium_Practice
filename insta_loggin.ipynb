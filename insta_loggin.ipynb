{
 "cells": [
  {
   "cell_type": "markdown",
   "metadata": {},
   "source": [
    "To login in insta\n",
    "URL :'https://www.instagram.com/'"
   ]
  },
  {
   "cell_type": "code",
   "execution_count": 19,
   "metadata": {},
   "outputs": [],
   "source": [
    "\n",
    "from selenium import webdriver\n",
    "from selenium.webdriver.chrome.service import Service\n",
    "from selenium.webdriver.common.by import By\n",
    "\n",
    "# Path to your ChromeDriver executable\n",
    "driver_path = r\"C:\\Windows\\chromedriver.exe\"\n",
    "\n",
    "# Create a Service object\n",
    "service = Service(driver_path)\n",
    "\n",
    "# Initialize the WebDriver with the Service object\n",
    "driver = webdriver.Chrome(service=service)\n",
    "\n",
    "# Test by opening a website\n",
    "driver.get(\"https://www.instagram.com/\")\n"
   ]
  },
  {
   "cell_type": "code",
   "execution_count": 20,
   "metadata": {},
   "outputs": [],
   "source": [
    "password= open('password.txt','r').read()"
   ]
  },
  {
   "cell_type": "code",
   "execution_count": 21,
   "metadata": {},
   "outputs": [],
   "source": [
    "import time\n",
    "with open('password.txt', 'r') as file:\n",
    "    password = file.read().strip()\n",
    "password=open('password.txt','r').read()\n",
    "driver.find_element(By.NAME,\"username\").send_keys('sauhardshukla')\n",
    "driver.find_element(By.NAME,\"password\").send_keys(password)\n",
    "driver.find_element('tag name','button').click()\n",
    "time.sleep(3)\n",
    "driver.find_element('tag name','button').click()\n",
    "\n"
   ]
  },
  {
   "cell_type": "markdown",
   "metadata": {},
   "source": []
  },
  {
   "cell_type": "code",
   "execution_count": 22,
   "metadata": {},
   "outputs": [],
   "source": [
    "driver.find_elements('tag name','button')[1].click()\n",
    "# driver.quit()"
   ]
  }
 ],
 "metadata": {
  "kernelspec": {
   "display_name": "Python 3",
   "language": "python",
   "name": "python3"
  },
  "language_info": {
   "codemirror_mode": {
    "name": "ipython",
    "version": 3
   },
   "file_extension": ".py",
   "mimetype": "text/x-python",
   "name": "python",
   "nbconvert_exporter": "python",
   "pygments_lexer": "ipython3",
   "version": "3.12.3"
  }
 },
 "nbformat": 4,
 "nbformat_minor": 2
}
